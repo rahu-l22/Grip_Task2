{
 "cells": [
  {
   "cell_type": "markdown",
   "id": "directed-fancy",
   "metadata": {},
   "source": [
    "#THE SPARKS FOUNDATION\n",
    "#GRIPsEPTEMBER2021\n",
    "#DATA SCIENCE AND BUSINESS ANALYTICS INTERN\n",
    "#**INTERN NAME: Rahul Goyal**"
    "#TASK 2 : PREDICTION USING UNSUPERVISED ML\n",
   ]
  },
  {
   "cell_type": "code",
   "execution_count": 90,
   "id": "confused-douglas",
   "metadata": {},
   "outputs": [],
   "source": [
    "# Necessary Library \n",
    "import pandas as pd\n",
    "import numpy as np  \n",
    "from matplotlib import pyplot as pt\n",
    "from sklearn.cluster import KMeans"
   ]
  },
  {
   "cell_type": "code",
   "execution_count": 168,
   "id": "electric-canberra",
   "metadata": {},
   "outputs": [
    {
     "name": "stdout",
     "output_type": "stream",
     "text": [
      "Data imported successfully\n"
     ]
    },
    {
     "data": {
      "text/html": [
       "<div>\n",
       "<style scoped>\n",
       "    .dataframe tbody tr th:only-of-type {\n",
       "        vertical-align: middle;\n",
       "    }\n",
       "\n",
       "    .dataframe tbody tr th {\n",
       "        vertical-align: top;\n",
       "    }\n",
       "\n",
       "    .dataframe thead th {\n",
       "        text-align: right;\n",
       "    }\n",
       "</style>\n",
       "<table border=\"1\" class=\"dataframe\">\n",
       "  <thead>\n",
       "    <tr style=\"text-align: right;\">\n",
       "      <th></th>\n",
       "      <th>Id</th>\n",
       "      <th>SepalLengthCm</th>\n",
       "      <th>SepalWidthCm</th>\n",
       "      <th>PetalLengthCm</th>\n",
       "      <th>PetalWidthCm</th>\n",
       "      <th>Species</th>\n",
       "    </tr>\n",
       "  </thead>\n",
       "  <tbody>\n",
       "    <tr>\n",
       "      <th>0</th>\n",
       "      <td>1</td>\n",
       "      <td>5.1</td>\n",
       "      <td>3.5</td>\n",
       "      <td>1.4</td>\n",
       "      <td>0.2</td>\n",
       "      <td>Iris-setosa</td>\n",
       "    </tr>\n",
       "    <tr>\n",
       "      <th>1</th>\n",
       "      <td>2</td>\n",
       "      <td>4.9</td>\n",
       "      <td>3.0</td>\n",
       "      <td>1.4</td>\n",
       "      <td>0.2</td>\n",
       "      <td>Iris-setosa</td>\n",
       "    </tr>\n",
       "    <tr>\n",
       "      <th>2</th>\n",
       "      <td>3</td>\n",
       "      <td>4.7</td>\n",
       "      <td>3.2</td>\n",
       "      <td>1.3</td>\n",
       "      <td>0.2</td>\n",
       "      <td>Iris-setosa</td>\n",
       "    </tr>\n",
       "    <tr>\n",
       "      <th>3</th>\n",
       "      <td>4</td>\n",
       "      <td>4.6</td>\n",
       "      <td>3.1</td>\n",
       "      <td>1.5</td>\n",
       "      <td>0.2</td>\n",
       "      <td>Iris-setosa</td>\n",
       "    </tr>\n",
       "    <tr>\n",
       "      <th>4</th>\n",
       "      <td>5</td>\n",
       "      <td>5.0</td>\n",
       "      <td>3.6</td>\n",
       "      <td>1.4</td>\n",
       "      <td>0.2</td>\n",
       "      <td>Iris-setosa</td>\n",
       "    </tr>\n",
       "    <tr>\n",
       "      <th>...</th>\n",
       "      <td>...</td>\n",
       "      <td>...</td>\n",
       "      <td>...</td>\n",
       "      <td>...</td>\n",
       "      <td>...</td>\n",
       "      <td>...</td>\n",
       "    </tr>\n",
       "    <tr>\n",
       "      <th>95</th>\n",
       "      <td>96</td>\n",
       "      <td>5.7</td>\n",
       "      <td>3.0</td>\n",
       "      <td>4.2</td>\n",
       "      <td>1.2</td>\n",
       "      <td>Iris-versicolor</td>\n",
       "    </tr>\n",
       "    <tr>\n",
       "      <th>96</th>\n",
       "      <td>97</td>\n",
       "      <td>5.7</td>\n",
       "      <td>2.9</td>\n",
       "      <td>4.2</td>\n",
       "      <td>1.3</td>\n",
       "      <td>Iris-versicolor</td>\n",
       "    </tr>\n",
       "    <tr>\n",
       "      <th>97</th>\n",
       "      <td>98</td>\n",
       "      <td>6.2</td>\n",
       "      <td>2.9</td>\n",
       "      <td>4.3</td>\n",
       "      <td>1.3</td>\n",
       "      <td>Iris-versicolor</td>\n",
       "    </tr>\n",
       "    <tr>\n",
       "      <th>98</th>\n",
       "      <td>99</td>\n",
       "      <td>5.1</td>\n",
       "      <td>2.5</td>\n",
       "      <td>3.0</td>\n",
       "      <td>1.1</td>\n",
       "      <td>Iris-versicolor</td>\n",
       "    </tr>\n",
       "    <tr>\n",
       "      <th>99</th>\n",
       "      <td>100</td>\n",
       "      <td>5.7</td>\n",
       "      <td>2.8</td>\n",
       "      <td>4.1</td>\n",
       "      <td>1.3</td>\n",
       "      <td>Iris-versicolor</td>\n",
       "    </tr>\n",
       "  </tbody>\n",
       "</table>\n",
       "<p>100 rows × 6 columns</p>\n",
       "</div>"
      ],
      "text/plain": [
       "     Id  SepalLengthCm  SepalWidthCm  PetalLengthCm  PetalWidthCm  \\\n",
       "0     1            5.1           3.5            1.4           0.2   \n",
       "1     2            4.9           3.0            1.4           0.2   \n",
       "2     3            4.7           3.2            1.3           0.2   \n",
       "3     4            4.6           3.1            1.5           0.2   \n",
       "4     5            5.0           3.6            1.4           0.2   \n",
       "..  ...            ...           ...            ...           ...   \n",
       "95   96            5.7           3.0            4.2           1.2   \n",
       "96   97            5.7           2.9            4.2           1.3   \n",
       "97   98            6.2           2.9            4.3           1.3   \n",
       "98   99            5.1           2.5            3.0           1.1   \n",
       "99  100            5.7           2.8            4.1           1.3   \n",
       "\n",
       "            Species  \n",
       "0       Iris-setosa  \n",
       "1       Iris-setosa  \n",
       "2       Iris-setosa  \n",
       "3       Iris-setosa  \n",
       "4       Iris-setosa  \n",
       "..              ...  \n",
       "95  Iris-versicolor  \n",
       "96  Iris-versicolor  \n",
       "97  Iris-versicolor  \n",
       "98  Iris-versicolor  \n",
       "99  Iris-versicolor  \n",
       "\n",
       "[100 rows x 6 columns]"
      ]
     },
     "execution_count": 168,
     "metadata": {},
     "output_type": "execute_result"
    }
   ],
   "source": [
    "# Importing Data\n",
    "s_data = pd.read_csv(\"iris.csv\")\n",
    "print(\"Data imported successfully\")\n",
    "s_data.head(100)\n"
   ]
  },
  {
   "cell_type": "code",
   "execution_count": 188,
   "id": "polar-chapter",
   "metadata": {},
   "outputs": [
    {
     "data": {
      "image/png": "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\n",
      "text/plain": [
       "<Figure size 432x288 with 1 Axes>"
      ]
     },
     "metadata": {
      "needs_background": "light"
     },
     "output_type": "display_data"
    }
   ],
   "source": [
    "# Extracting Data\n",
    "x = s_data.iloc[:,[1,2]]\n",
    "\n",
    "x1=x.iloc[:,0].values\n",
    "x2=x.iloc[:,1].values\n",
    "pt.scatter(x1,x2,c=\"green\")   \n",
    "pt.show()"
   ]
  },
  {
   "cell_type": "code",
   "execution_count": 189,
   "id": "palestinian-intention",
   "metadata": {},
   "outputs": [
    {
     "data": {
      "image/png": "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\n",
      "text/plain": [
       "<Figure size 432x288 with 1 Axes>"
      ]
     },
     "metadata": {
      "needs_background": "light"
     },
     "output_type": "display_data"
    }
   ],
   "source": [
    "# Elbow Method\n",
    "num = []\n",
    "for k in range(1,11):\n",
    "    cls = KMeans(n_clusters=k)\n",
    "    cls.fit(x)\n",
    "    i = cls.inertia_\n",
    "    num.append(i)    \n",
    "\n",
    "pt.plot(range(1,11),num,c=\"red\")\n",
    "pt.show()    "
   ]
  },
  {
   "cell_type": "code",
   "execution_count": 194,
   "id": "micro-reverse",
   "metadata": {},
   "outputs": [
    {
     "data": {
      "image/png": "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\n",
      "text/plain": [
       "<Figure size 432x288 with 1 Axes>"
      ]
     },
     "metadata": {
      "needs_background": "light"
     },
     "output_type": "display_data"
    }
   ],
   "source": [
    "# Plotting The Clustered Data\n",
    "cls = KMeans(n_clusters=3) # K=3\n",
    "cls.fit(x)\n",
    "lbl = cls.labels_\n",
    "ce = cls.cluster_centers_\n",
    "pt.scatter(x[lbl==0].iloc[:,0],x[lbl==0].iloc[:,1],c=\"purple\",label = 'Iris-setosa')\n",
    "pt.scatter(x[lbl==1].iloc[:,0],x[lbl==1].iloc[:,1],c=\"orange\",label = 'Iris-versicolor')\n",
    "pt.scatter(x[lbl==2].iloc[:,0],x[lbl==2].iloc[:,1],c=\"green\",label = 'Iris-virginica')\n",
    "pt.scatter(ce[:,0],ce[:,1],c=\"red\",label=\"Centroid\")\n",
    "pt.legend()\n",
    "pt.show()"
   ]
  },
  {
   "cell_type": "code",
   "execution_count": null,
   "id": "elect-weight",
   "metadata": {},
   "outputs": [],
   "source": []
  }
 ],
 "metadata": {
  "kernelspec": {
   "display_name": "Python 3",
   "language": "python",
   "name": "python3"
  },
  "language_info": {
   "codemirror_mode": {
    "name": "ipython",
    "version": 3
   },
   "file_extension": ".py",
   "mimetype": "text/x-python",
   "name": "python",
   "nbconvert_exporter": "python",
   "pygments_lexer": "ipython3",
   "version": "3.9.1"
  }
 },
 "nbformat": 4,
 "nbformat_minor": 5
}
